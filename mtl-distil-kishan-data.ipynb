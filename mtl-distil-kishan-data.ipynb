{
 "cells": [
  {
   "cell_type": "markdown",
   "id": "507e7dd8",
   "metadata": {
    "papermill": {
     "duration": 0.007495,
     "end_time": "2024-04-24T07:23:48.757555",
     "exception": false,
     "start_time": "2024-04-24T07:23:48.750060",
     "status": "completed"
    },
    "tags": []
   },
   "source": [
    "Teacher"
   ]
  },
  {
   "cell_type": "code",
   "execution_count": 1,
   "id": "d16fd65e",
   "metadata": {
    "execution": {
     "iopub.execute_input": "2024-04-24T07:23:48.772760Z",
     "iopub.status.busy": "2024-04-24T07:23:48.772464Z",
     "iopub.status.idle": "2024-04-24T07:24:04.161448Z",
     "shell.execute_reply": "2024-04-24T07:24:04.160527Z"
    },
    "papermill": {
     "duration": 15.399013,
     "end_time": "2024-04-24T07:24:04.163494",
     "exception": false,
     "start_time": "2024-04-24T07:23:48.764481",
     "status": "completed"
    },
    "tags": []
   },
   "outputs": [
    {
     "data": {
      "text/plain": [
       "<torch._C.Generator at 0x7b4780a977f0>"
      ]
     },
     "execution_count": 1,
     "metadata": {},
     "output_type": "execute_result"
    }
   ],
   "source": [
    "import numpy as np\n",
    "import os\n",
    "from skimage import io\n",
    "from skimage.transform import resize\n",
    "import scipy.io as spio\n",
    "import torch\n",
    "from torch import nn\n",
    "import torch.optim as optim\n",
    "from torch.utils.data import DataLoader\n",
    "from torch.utils.data import Dataset\n",
    "import sys\n",
    "import torchvision.models as models\n",
    "import torch.nn.functional as F\n",
    "import pandas as pd\n",
    "import pickle\n",
    "import os\n",
    "import matplotlib.pyplot as plt\n",
    "from sklearn.metrics import precision_score, recall_score, accuracy_score, f1_score, r2_score, mean_squared_error\n",
    "from sklearn.model_selection import train_test_split\n",
    "from torch.utils.data.dataset import Subset\n",
    "torch.manual_seed(1234) "
   ]
  },
  {
   "cell_type": "code",
   "execution_count": 2,
   "id": "3e2a9a5b",
   "metadata": {
    "execution": {
     "iopub.execute_input": "2024-04-24T07:24:04.178807Z",
     "iopub.status.busy": "2024-04-24T07:24:04.178358Z",
     "iopub.status.idle": "2024-04-24T07:24:04.185577Z",
     "shell.execute_reply": "2024-04-24T07:24:04.184675Z"
    },
    "papermill": {
     "duration": 0.016732,
     "end_time": "2024-04-24T07:24:04.187330",
     "exception": false,
     "start_time": "2024-04-24T07:24:04.170598",
     "status": "completed"
    },
    "tags": []
   },
   "outputs": [],
   "source": [
    "epochs = np.arange(1, 51)\n",
    "glass_accuracy_test = []\n",
    "gender_accuracy_test = []\n",
    "testing_error_pose = []\n",
    "glass_accuracy_train = []\n",
    "gender_accuracy_train = []\n",
    "training_error_pose = []\n",
    "val_error_pose = []\n",
    "glass_accuracy_val = []\n",
    "gender_accuracy_val = []\n",
    "best_val_loss = float('inf')\n",
    "best_model_state = None\n",
    "early_stopping_rounds = 5\n",
    "patience = 0\n",
    "NumEpochs = 50\n",
    "torch.manual_seed(1234) \n",
    "\n",
    "num_classes_task1 = 2 \n",
    "num_classes_task2 = 2 \n",
    "num_classes_task3 = 3 "
   ]
  },
  {
   "cell_type": "code",
   "execution_count": 3,
   "id": "f8fed9a0",
   "metadata": {
    "execution": {
     "iopub.execute_input": "2024-04-24T07:24:04.202380Z",
     "iopub.status.busy": "2024-04-24T07:24:04.201896Z",
     "iopub.status.idle": "2024-04-24T07:24:04.287732Z",
     "shell.execute_reply": "2024-04-24T07:24:04.286768Z"
    },
    "papermill": {
     "duration": 0.09539,
     "end_time": "2024-04-24T07:24:04.289737",
     "exception": false,
     "start_time": "2024-04-24T07:24:04.194347",
     "status": "completed"
    },
    "tags": []
   },
   "outputs": [
    {
     "name": "stdout",
     "output_type": "stream",
     "text": [
      "True\n"
     ]
    }
   ],
   "source": [
    "import torch\n",
    "print(torch.cuda.is_available())\n",
    "device = torch.device('cuda' if torch.cuda.is_available() else 'cpu')"
   ]
  },
  {
   "cell_type": "code",
   "execution_count": 4,
   "id": "935395f7",
   "metadata": {
    "execution": {
     "iopub.execute_input": "2024-04-24T07:24:04.305392Z",
     "iopub.status.busy": "2024-04-24T07:24:04.304711Z",
     "iopub.status.idle": "2024-04-24T07:24:04.308926Z",
     "shell.execute_reply": "2024-04-24T07:24:04.308097Z"
    },
    "papermill": {
     "duration": 0.013877,
     "end_time": "2024-04-24T07:24:04.310798",
     "exception": false,
     "start_time": "2024-04-24T07:24:04.296921",
     "status": "completed"
    },
    "tags": []
   },
   "outputs": [],
   "source": [
    "img_size = [224, 224]\n",
    "startFrom=0\n",
    "# NumEpochs = 30\n",
    "batch_size = 100\n",
    "threadsTraining=1  \n",
    "dataset_path='/kaggle/input/mtl-aflw-data'"
   ]
  },
  {
   "cell_type": "code",
   "execution_count": 5,
   "id": "bdb070aa",
   "metadata": {
    "execution": {
     "iopub.execute_input": "2024-04-24T07:24:04.326104Z",
     "iopub.status.busy": "2024-04-24T07:24:04.325436Z",
     "iopub.status.idle": "2024-04-24T07:24:04.728678Z",
     "shell.execute_reply": "2024-04-24T07:24:04.727548Z"
    },
    "papermill": {
     "duration": 0.413515,
     "end_time": "2024-04-24T07:24:04.731337",
     "exception": false,
     "start_time": "2024-04-24T07:24:04.317822",
     "status": "completed"
    },
    "tags": []
   },
   "outputs": [],
   "source": [
    "imagesPath='/kaggle/input/mtl-aflw-data/cropped_resized_AFLW/images'\n",
    "mat=spio.loadmat('/kaggle/input/mtl-aflw-data/cropped_resized_AFLW/matrices/dataAFLW.mat')\n",
    "mat2=spio.loadmat('/kaggle/input/mtl-aflw-data/cropped_resized_AFLW/matrices/protocolAFLW.mat')\n",
    "\n",
    "PresenceGender=mat2['TrainMask_Gender']\n",
    "PresenceGlasses=mat2['TrainMask_Glasses']\n",
    "PresencePose=mat2['TrainMask_Pose']\n",
    "LabelPresenceMat=np.concatenate((PresenceGender, PresenceGlasses, PresencePose))\n",
    "LabelPresenceMat=np.transpose(LabelPresenceMat)\n",
    "TrainingSampleCount_taskWise=np.sum(LabelPresenceMat,axis=0)\n"
   ]
  },
  {
   "cell_type": "code",
   "execution_count": 6,
   "id": "85608d9f",
   "metadata": {
    "execution": {
     "iopub.execute_input": "2024-04-24T07:24:04.748446Z",
     "iopub.status.busy": "2024-04-24T07:24:04.748043Z",
     "iopub.status.idle": "2024-04-24T07:24:04.752889Z",
     "shell.execute_reply": "2024-04-24T07:24:04.751948Z"
    },
    "papermill": {
     "duration": 0.01556,
     "end_time": "2024-04-24T07:24:04.754841",
     "exception": false,
     "start_time": "2024-04-24T07:24:04.739281",
     "status": "completed"
    },
    "tags": []
   },
   "outputs": [],
   "source": [
    "elementsInTest = int(PresenceGender.shape[1]*0.3)\n",
    "TrainingSampleCount = int(PresenceGender.shape[1]*0.7)"
   ]
  },
  {
   "cell_type": "code",
   "execution_count": 7,
   "id": "85502953",
   "metadata": {
    "execution": {
     "iopub.execute_input": "2024-04-24T07:24:04.771467Z",
     "iopub.status.busy": "2024-04-24T07:24:04.771195Z",
     "iopub.status.idle": "2024-04-24T07:24:04.781272Z",
     "shell.execute_reply": "2024-04-24T07:24:04.780409Z"
    },
    "papermill": {
     "duration": 0.021206,
     "end_time": "2024-04-24T07:24:04.783113",
     "exception": false,
     "start_time": "2024-04-24T07:24:04.761907",
     "status": "completed"
    },
    "tags": []
   },
   "outputs": [],
   "source": [
    "def loadCompleteDataset(startFrom, dataset_path,TrainingSampleCount):\n",
    "    ArrayFaceID=mat['ArrayFaceID']\n",
    "    ArrayGender_oneHot=mat['ArrayGender_oneHot']\n",
    "    ArrayGlasses_oneHot=mat['ArrayGlasses_oneHot']\n",
    "    ArraysPose=mat['ArraysPose']\n",
    "    \n",
    "    delMask=np.arange(startFrom,startFrom+elementsInTest)\n",
    "    \n",
    "    TestArrayFaceID = ArrayFaceID[startFrom:startFrom+elementsInTest:1,:]\n",
    "    TrainArrayFaceID = ArrayFaceID\n",
    "    TrainArrayFaceID = np.delete(TrainArrayFaceID,delMask,axis=0)\n",
    "    TestStrNames = [str(i) for i in TestArrayFaceID]\n",
    "    TestStrNames = [i[1:6] for i in TestStrNames]\n",
    "    TrainStrNames = [str(i) for i in TrainArrayFaceID]\n",
    "    TrainStrNames = [i[1:6] for i in TrainStrNames]\n",
    "    \n",
    "    TestArrayGender_oneHot = ArrayGender_oneHot[startFrom:startFrom+elementsInTest:1,:]\n",
    "    TrainArrayGender_oneHot = ArrayGender_oneHot\n",
    "    TrainArrayGender_oneHot = np.delete(TrainArrayGender_oneHot,delMask,axis=0)\n",
    "    \n",
    "    TestArrayGlasses_oneHot = ArrayGlasses_oneHot[startFrom:startFrom+elementsInTest:1,:]\n",
    "    TrainArrayGlasses_oneHot = ArrayGlasses_oneHot\n",
    "    TrainArrayGlasses_oneHot = np.delete(TrainArrayGlasses_oneHot,delMask,axis=0)\n",
    "    \n",
    "    TestArraysPose = ArraysPose[startFrom:startFrom+elementsInTest:1,:]\n",
    "    TrainArraysPose = ArraysPose\n",
    "    TrainArraysPose = np.delete(TrainArraysPose,delMask,axis=0)\n",
    "\n",
    "    dataset_AFLW = datasetClass_AFLW(TrainStrNames, TrainArrayGender_oneHot, TrainArrayGlasses_oneHot, TrainArraysPose, LabelPresenceMat, imagesPath, TrainingSampleCount)\n",
    "    dataset_AFLW_Test = datasetClass_AFLW_test(TestStrNames, TestArrayGender_oneHot, TestArrayGlasses_oneHot, TestArraysPose, imagesPath)\n",
    "    return dataset_AFLW, TrainingSampleCount_taskWise.astype(float), dataset_AFLW_Test, elementsInTest\n"
   ]
  },
  {
   "cell_type": "code",
   "execution_count": 8,
   "id": "9307f915",
   "metadata": {
    "execution": {
     "iopub.execute_input": "2024-04-24T07:24:04.798269Z",
     "iopub.status.busy": "2024-04-24T07:24:04.797989Z",
     "iopub.status.idle": "2024-04-24T07:24:04.806101Z",
     "shell.execute_reply": "2024-04-24T07:24:04.805273Z"
    },
    "papermill": {
     "duration": 0.017732,
     "end_time": "2024-04-24T07:24:04.807945",
     "exception": false,
     "start_time": "2024-04-24T07:24:04.790213",
     "status": "completed"
    },
    "tags": []
   },
   "outputs": [],
   "source": [
    "class datasetClass_AFLW(Dataset):\n",
    "    def __init__(self, ArrayFaceID, ArrayGender_oneHot, ArrayGlasses_oneHot, ArraysPose, LabelPresenceMat, imagesPath, TrainingSampleCount):\n",
    "        self.ArrayFaceID=ArrayFaceID\n",
    "        self.ArrayGender_oneHot=torch.from_numpy(ArrayGender_oneHot)\n",
    "        self.ArrayGlasses_oneHot=torch.from_numpy(ArrayGlasses_oneHot)\n",
    "        self.ArraysPose=torch.from_numpy(ArraysPose)\n",
    "        self.imagePath=imagesPath\n",
    "        self.CountSamples = TrainingSampleCount#len(self.ArrayFaceID)\n",
    "        self.LabelPresenceMat=LabelPresenceMat\n",
    "    \n",
    "    def __getitem__(self, index):\n",
    "        imageName=self.ArrayFaceID[index]\n",
    "        ## Original Clean Image [output]\n",
    "        im_path = os.path.join(self.imagePath,imageName+'.png')\n",
    "        img = io.imread(im_path)\n",
    "        #following line normalizes image to [0, 1]\n",
    "        img = resize(img, (img_size[0], img_size[1]))\n",
    "        img = img.transpose(2, 0, 1)\n",
    "        \n",
    "        TaskwiseLabelPresence=self.LabelPresenceMat[index]\n",
    "        \n",
    "        label_gender = self.ArrayGender_oneHot[index]\n",
    "        label_glass = self.ArrayGlasses_oneHot[index]\n",
    "        label_pose = self.ArraysPose[index]\n",
    "        return  img, label_gender, label_glass, label_pose, imageName, TaskwiseLabelPresence\n",
    "        \n",
    "    def __len__(self):\n",
    "        return self.CountSamples\n"
   ]
  },
  {
   "cell_type": "code",
   "execution_count": 9,
   "id": "f19cd573",
   "metadata": {
    "execution": {
     "iopub.execute_input": "2024-04-24T07:24:04.823506Z",
     "iopub.status.busy": "2024-04-24T07:24:04.822775Z",
     "iopub.status.idle": "2024-04-24T07:24:04.830971Z",
     "shell.execute_reply": "2024-04-24T07:24:04.830116Z"
    },
    "papermill": {
     "duration": 0.017877,
     "end_time": "2024-04-24T07:24:04.832883",
     "exception": false,
     "start_time": "2024-04-24T07:24:04.815006",
     "status": "completed"
    },
    "tags": []
   },
   "outputs": [],
   "source": [
    "class datasetClass_AFLW_test(Dataset):\n",
    "    def __init__(self, ArrayFaceID, ArrayGender_oneHot, ArrayGlasses_oneHot, ArraysPose, imagesPath):\n",
    "        self.ArrayFaceID=ArrayFaceID\n",
    "        self.ArrayGender_oneHot=torch.from_numpy(ArrayGender_oneHot)\n",
    "        self.ArrayGlasses_oneHot=torch.from_numpy(ArrayGlasses_oneHot)\n",
    "        self.ArraysPose=torch.from_numpy(ArraysPose)\n",
    "        self.imagePath=imagesPath\n",
    "        self.CountSamples = elementsInTest\n",
    "    \n",
    "    def __getitem__(self, index):\n",
    "        imageName=self.ArrayFaceID[index]\n",
    "        ## Original Clean Image [output]\n",
    "        im_path = os.path.join(self.imagePath,imageName+'.png')\n",
    "        img = io.imread(im_path)\n",
    "        #following line normalizes image to [0, 1]\n",
    "        img = resize(img, (img_size[0], img_size[1]))\n",
    "        img = img.transpose(2, 0, 1)\n",
    "        \n",
    "        label_gender = self.ArrayGender_oneHot[index]\n",
    "        label_glass = self.ArrayGlasses_oneHot[index]\n",
    "        label_pose = self.ArraysPose[index]\n",
    "        return img, label_gender, label_glass, label_pose, imageName\n",
    "        \n",
    "    def __len__(self):\n",
    "        return self.CountSamples\n",
    "\n",
    "    \n"
   ]
  },
  {
   "cell_type": "code",
   "execution_count": 10,
   "id": "4891986b",
   "metadata": {
    "execution": {
     "iopub.execute_input": "2024-04-24T07:24:04.847445Z",
     "iopub.status.busy": "2024-04-24T07:24:04.847176Z",
     "iopub.status.idle": "2024-04-24T07:24:05.776868Z",
     "shell.execute_reply": "2024-04-24T07:24:05.775952Z"
    },
    "papermill": {
     "duration": 0.939337,
     "end_time": "2024-04-24T07:24:05.779037",
     "exception": false,
     "start_time": "2024-04-24T07:24:04.839700",
     "status": "completed"
    },
    "tags": []
   },
   "outputs": [],
   "source": [
    "torch.manual_seed(1234) \n",
    "dataset_AFLW, TrainingSampleCount_taskWise, dataset_AFLW_Test, elementsInTest = loadCompleteDataset(startFrom, dataset_path, TrainingSampleCount)"
   ]
  },
  {
   "cell_type": "code",
   "execution_count": 11,
   "id": "1bdb99d8",
   "metadata": {
    "execution": {
     "iopub.execute_input": "2024-04-24T07:24:05.795633Z",
     "iopub.status.busy": "2024-04-24T07:24:05.794857Z",
     "iopub.status.idle": "2024-04-24T07:24:05.804914Z",
     "shell.execute_reply": "2024-04-24T07:24:05.804080Z"
    },
    "papermill": {
     "duration": 0.019878,
     "end_time": "2024-04-24T07:24:05.806783",
     "exception": false,
     "start_time": "2024-04-24T07:24:05.786905",
     "status": "completed"
    },
    "tags": []
   },
   "outputs": [],
   "source": [
    "torch.manual_seed(1234) \n",
    "train_indices, val_indices = train_test_split(np.arange(len(dataset_AFLW)), test_size=0.3, random_state=42)\n",
    "train_dataloader = DataLoader(Subset(dataset_AFLW, train_indices), batch_size=batch_size, shuffle=True, num_workers=threadsTraining, drop_last=True)\n",
    "val_dataloader = DataLoader(Subset(dataset_AFLW, val_indices), batch_size=batch_size, shuffle=False, num_workers=threadsTraining, drop_last=True)\n",
    "test_dataloader = DataLoader(dataset_AFLW_Test, shuffle=False, num_workers=threadsTraining, batch_size=batch_size,drop_last=True)"
   ]
  },
  {
   "cell_type": "markdown",
   "id": "bedaaae4",
   "metadata": {
    "papermill": {
     "duration": 0.006677,
     "end_time": "2024-04-24T07:24:05.820268",
     "exception": false,
     "start_time": "2024-04-24T07:24:05.813591",
     "status": "completed"
    },
    "tags": []
   },
   "source": [
    "**TEACHER_MTL**"
   ]
  },
  {
   "cell_type": "code",
   "execution_count": 12,
   "id": "c6d7b7ee",
   "metadata": {
    "execution": {
     "iopub.execute_input": "2024-04-24T07:24:05.835839Z",
     "iopub.status.busy": "2024-04-24T07:24:05.835352Z",
     "iopub.status.idle": "2024-04-24T07:24:05.849654Z",
     "shell.execute_reply": "2024-04-24T07:24:05.848777Z"
    },
    "papermill": {
     "duration": 0.024208,
     "end_time": "2024-04-24T07:24:05.851569",
     "exception": false,
     "start_time": "2024-04-24T07:24:05.827361",
     "status": "completed"
    },
    "tags": []
   },
   "outputs": [],
   "source": [
    "class SharedNetwork(nn.Module): \n",
    "    def __init__(self):\n",
    "        super(SharedNetwork, self).__init__()\n",
    "        resnet = models.resnet18(pretrained=True)\n",
    "        self.shared_network = nn.Sequential(*list(resnet.children())[:-2])\n",
    "        self.gap = nn.Sequential(nn.AdaptiveAvgPool2d(1))\n",
    "\n",
    "    def forward(self, x):\n",
    "        shared_embedding = self.gap(self.shared_network(x))\n",
    "        return shared_embedding\n",
    "\n",
    "class MultiTaskNetwork(nn.Module):\n",
    "    def __init__(self, num_classes_task1, num_classes_task2, num_classes_task3):\n",
    "        super(MultiTaskNetwork, self).__init__()\n",
    "        self.shared_net = SharedNetwork().to(device)\n",
    "        self.task1_head = nn.Sequential(\n",
    "            nn.Linear(512, 256),\n",
    "            nn.ReLU(inplace=True),\n",
    "            nn.Linear(256, 128),\n",
    "            nn.ReLU(inplace=True),\n",
    "            nn.Linear(128, num_classes_task1),\n",
    "            nn.Softmax()\n",
    "        ).to(device)\n",
    "            \n",
    "        self.task2_head = nn.Sequential(\n",
    "            nn.Linear(512, 256),\n",
    "            nn.ReLU(inplace=True),\n",
    "            nn.Linear(256, 128),\n",
    "            nn.ReLU(inplace=True),\n",
    "            nn.Linear(128, num_classes_task2),\n",
    "            nn.Softmax()\n",
    "        ).to(device)\n",
    "\n",
    "        self.task3_head = nn.Sequential(\n",
    "            nn.Linear(512, 256),\n",
    "            nn.ReLU(inplace=True),\n",
    "            nn.Linear(256, 128),\n",
    "            nn.ReLU(inplace=True),\n",
    "            nn.Linear(128, num_classes_task3),\n",
    "            nn.ReLU(inplace=True)\n",
    "        ).to(device)\n",
    "\n",
    "    def forward(self, x):\n",
    "        shared_embedding = self.shared_net(x)\n",
    "        task1_output = self.task1_head(shared_embedding.view(shared_embedding.size(0), -1))\n",
    "        task2_output = self.task2_head(shared_embedding.view(shared_embedding.size(0), -1))\n",
    "        task3_output = self.task3_head(shared_embedding.view(shared_embedding.size(0), -1))\n",
    "        return task1_output, task2_output, task3_output\n",
    "\n",
    "class myMSElossPose(torch.nn.Module):\n",
    "    def __init__(self, batch_size):\n",
    "        super(myMSElossPose, self).__init__()\n",
    "        self.batch_size = batch_size\n",
    "\n",
    "    def forward(self, predicted, target):\n",
    "        BatchSampleCount=predicted.shape[0]\n",
    "        error = torch.sub(predicted,target)\n",
    "        squaredError = torch.mul(error, error)\n",
    "        allSum = torch.sum(squaredError)\n",
    "        FinalLoss = torch.div(allSum, 3*BatchSampleCount)\n",
    "        return FinalLoss\n"
   ]
  },
  {
   "cell_type": "code",
   "execution_count": 13,
   "id": "5149c64b",
   "metadata": {
    "execution": {
     "iopub.execute_input": "2024-04-24T07:24:05.866273Z",
     "iopub.status.busy": "2024-04-24T07:24:05.866002Z",
     "iopub.status.idle": "2024-04-24T07:24:05.875297Z",
     "shell.execute_reply": "2024-04-24T07:24:05.874490Z"
    },
    "papermill": {
     "duration": 0.018835,
     "end_time": "2024-04-24T07:24:05.877218",
     "exception": false,
     "start_time": "2024-04-24T07:24:05.858383",
     "status": "completed"
    },
    "tags": []
   },
   "outputs": [],
   "source": [
    "def calculate_classification_metrics(labels, predictions):\n",
    "    predictions_index = np.argmax(predictions, axis=1)\n",
    "    labels_index = np.argmax(labels, axis=1)\n",
    "    true_1 = []\n",
    "    pred_1 = []\n",
    "    for i in range(len(predictions)):\n",
    "        true_1.append(labels[i][0])\n",
    "        if(predictions[i][0] >=0.5):\n",
    "            pred_1.append(1)\n",
    "        else:\n",
    "            pred_1.append(0)\n",
    "\n",
    "    true_2 = []\n",
    "    pred_2 = []\n",
    "    for i in range(len(predictions)):\n",
    "        true_2.append(labels[i][1])\n",
    "        if(predictions[i][1] >=0.5):\n",
    "            pred_2.append(1)\n",
    "        else:\n",
    "            pred_2.append(0)\n",
    "\n",
    "    precision_1 = precision_score(true_1, pred_1)\n",
    "    recall_1 = recall_score(true_1, pred_1)\n",
    "    accuracy_1 = accuracy_score(true_1, pred_1)\n",
    "    f1_1 = f1_score(true_1, pred_1)\n",
    "\n",
    "    precision_2 = precision_score(true_2, pred_2)\n",
    "    recall_2 = recall_score(true_2, pred_2)\n",
    "    accuracy_2 = accuracy_score(true_2, pred_2)\n",
    "    f1_2 = f1_score(true_2, pred_2)\n",
    "\n",
    "\n",
    "    print('For Class 0:')\n",
    "    print(f\"Precision_0: {precision_1:.4f}, Recall_0: {recall_1:.4f}, Accuracy_0: {accuracy_1:.4f}, F1 Score_0: {f1_1:.4f}\")\n",
    "    print('For Class 1:')\n",
    "    print(f\"Precision_1: {precision_2:.4f}, Recall_1: {recall_2:.4f}, Accuracy_1: {accuracy_2:.4f}, F1 Score_1: {f1_2:.4f}\")\n",
    "    return accuracy_1\n"
   ]
  },
  {
   "cell_type": "code",
   "execution_count": 14,
   "id": "ea1ac231",
   "metadata": {
    "execution": {
     "iopub.execute_input": "2024-04-24T07:24:05.892233Z",
     "iopub.status.busy": "2024-04-24T07:24:05.891932Z",
     "iopub.status.idle": "2024-04-24T07:24:06.967350Z",
     "shell.execute_reply": "2024-04-24T07:24:06.966540Z"
    },
    "papermill": {
     "duration": 1.085457,
     "end_time": "2024-04-24T07:24:06.969661",
     "exception": false,
     "start_time": "2024-04-24T07:24:05.884204",
     "status": "completed"
    },
    "tags": []
   },
   "outputs": [
    {
     "name": "stderr",
     "output_type": "stream",
     "text": [
      "/opt/conda/lib/python3.10/site-packages/torchvision/models/_utils.py:208: UserWarning: The parameter 'pretrained' is deprecated since 0.13 and may be removed in the future, please use 'weights' instead.\n",
      "  warnings.warn(\n",
      "/opt/conda/lib/python3.10/site-packages/torchvision/models/_utils.py:223: UserWarning: Arguments other than a weight enum or `None` for 'weights' are deprecated since 0.13 and may be removed in the future. The current behavior is equivalent to passing `weights=ResNet18_Weights.IMAGENET1K_V1`. You can also use `weights=ResNet18_Weights.DEFAULT` to get the most up-to-date weights.\n",
      "  warnings.warn(msg)\n",
      "Downloading: \"https://download.pytorch.org/models/resnet18-f37072fd.pth\" to /root/.cache/torch/hub/checkpoints/resnet18-f37072fd.pth\n",
      "100%|██████████| 44.7M/44.7M [00:00<00:00, 134MB/s]\n"
     ]
    }
   ],
   "source": [
    "multi_task_net = MultiTaskNetwork(num_classes_task1, num_classes_task2, num_classes_task3).to(device)\n",
    "\n",
    "for m in multi_task_net.modules():\n",
    "    if isinstance(m, nn.Conv2d) or isinstance(m, nn.Linear):\n",
    "        nn.init.xavier_normal_(m.weight)\n",
    "\n",
    "\n",
    "criterion_task1 = nn.BCELoss().to(device)\n",
    "criterion_task2 = nn.BCELoss().to(device)\n",
    "criterion_task3 = myMSElossPose(batch_size).to(device)\n",
    "\n",
    "\n",
    "optimizer = optim.SGD(multi_task_net.parameters(), lr=0.001, momentum=0.9)\n"
   ]
  },
  {
   "cell_type": "code",
   "execution_count": 15,
   "id": "e8617998",
   "metadata": {
    "execution": {
     "iopub.execute_input": "2024-04-24T07:24:06.987315Z",
     "iopub.status.busy": "2024-04-24T07:24:06.986961Z",
     "iopub.status.idle": "2024-04-24T07:24:07.003452Z",
     "shell.execute_reply": "2024-04-24T07:24:07.002583Z"
    },
    "papermill": {
     "duration": 0.027415,
     "end_time": "2024-04-24T07:24:07.005435",
     "exception": false,
     "start_time": "2024-04-24T07:24:06.978020",
     "status": "completed"
    },
    "tags": []
   },
   "outputs": [],
   "source": [
    "def training_result(epoch, multi_task_net, train_dataloader):\n",
    "    criterion_task3 = myMSElossPose(batch_size).to(device)\n",
    "    multi_task_net.eval()\n",
    "\n",
    "    y_true_glass = []\n",
    "    y_pred_glass = []\n",
    "    y_true_gender = []\n",
    "    y_pred_gender = []\n",
    "    y_true_pose = []\n",
    "    y_pred_pose = []\n",
    "    R_te_errorPose=0\n",
    "    te_countPose=0\n",
    "\n",
    "    # Iterate over the test dataset\n",
    "    with torch.no_grad():\n",
    "        for i, data in enumerate(train_dataloader, 0):\n",
    "            img, label_gender, label_glass, label_pose, imageName, TaskwiseLabelPresence = data\n",
    "            img = img.to(device)\n",
    "            label_gender = label_gender.to(device)\n",
    "            label_glass = label_glass.to(device)\n",
    "            label_pose = label_pose.to(device)\n",
    "            TaskwiseLabelPresence = TaskwiseLabelPresence.numpy()\n",
    "            img, label_gender, label_glass, label_pose = img.float(), label_gender.float(), label_glass.float(), label_pose.float()\n",
    "\n",
    "            # Make predictions\n",
    "            FC_output_gender, FC_output_glasses, FC_output_angle = multi_task_net(img)\n",
    "\n",
    "            gender_IndSelect = np.where(TaskwiseLabelPresence[:, 0] == 1)\n",
    "            glasses_IndSelect = np.where(TaskwiseLabelPresence[:, 1] == 1)\n",
    "            pose_IndSelect = np.where(TaskwiseLabelPresence[:, 2] == 1)\n",
    "\n",
    "            # Calculate task-wise metrics\n",
    "            if gender_IndSelect[0].shape[0] != 0:\n",
    "                y_true_gender.append(label_gender)\n",
    "                y_pred_gender.append(FC_output_gender)\n",
    "\n",
    "            if glasses_IndSelect[0].shape[0] != 0:\n",
    "                y_true_glass.append(label_glass)\n",
    "                y_pred_glass.append(FC_output_glasses)\n",
    "\n",
    "            if pose_IndSelect[0].shape[0] != 0:\n",
    "                y_true_pose.append(label_pose)\n",
    "                y_pred_pose.append(FC_output_angle)\n",
    "                loss3 = criterion_task3(FC_output_angle, label_pose)\n",
    "                R_te_errorPose += loss3.item()\n",
    "                te_countPose = te_countPose+1\n",
    "\n",
    "   \n",
    "    y_true_gender = np.concatenate([t.cpu().numpy() for t in y_true_gender], axis=0)\n",
    "    y_pred_gender = np.concatenate([t.cpu().numpy() for t in y_pred_gender], axis=0)\n",
    "    y_true_glass = np.concatenate([t.cpu().numpy() for t in y_true_glass], axis=0)\n",
    "    y_pred_glass = np.concatenate([t.cpu().numpy() for t in y_pred_glass], axis=0)\n",
    "    y_true_pose = np.concatenate([t.cpu().numpy() for t in y_true_pose], axis=0)\n",
    "    y_pred_pose = np.concatenate([t.cpu().numpy() for t in y_pred_pose], axis=0)\n",
    "    y_true_pose = y_true_pose.reshape(-1)\n",
    "    y_pred_pose = y_pred_pose.reshape(-1)\n",
    "\n",
    "    # Print the results\n",
    "    r2 = r2_score(y_true_pose,y_pred_pose)\n",
    "    training_error_pose.append(R_te_errorPose/te_countPose)\n",
    "\n",
    "    print('No of epochs Trained: ',epoch+1)\n",
    "    print('For Gender Task:')\n",
    "    gender_accuracy_train.append(calculate_classification_metrics(y_true_gender,y_pred_gender))\n",
    "    print('For Glasses Task:')\n",
    "    glass_accuracy_train.append(calculate_classification_metrics(y_true_glass,y_pred_glass))\n",
    "    print('For Pose Task:')       \n",
    "    print(f\"R2 Score: {r2:.4f}\")\n",
    "    print('Training error pose: ' + str(R_te_errorPose/te_countPose))\n",
    "    multi_task_net.train()\n"
   ]
  },
  {
   "cell_type": "code",
   "execution_count": 16,
   "id": "44d58fe9",
   "metadata": {
    "execution": {
     "iopub.execute_input": "2024-04-24T07:24:07.022502Z",
     "iopub.status.busy": "2024-04-24T07:24:07.022229Z",
     "iopub.status.idle": "2024-04-24T07:24:07.039271Z",
     "shell.execute_reply": "2024-04-24T07:24:07.038479Z"
    },
    "papermill": {
     "duration": 0.028016,
     "end_time": "2024-04-24T07:24:07.041316",
     "exception": false,
     "start_time": "2024-04-24T07:24:07.013300",
     "status": "completed"
    },
    "tags": []
   },
   "outputs": [],
   "source": [
    "def validation_result(epoch, multi_task_net, val_dataloader):\n",
    "    criterion_task3 = myMSElossPose(batch_size).to(device)\n",
    "    multi_task_net.eval()\n",
    "\n",
    "    y_true_gender, y_pred_gender = [], []\n",
    "    y_true_glass, y_pred_glass = [], []\n",
    "    y_true_pose, y_pred_pose = [], []\n",
    "    R_te_errorPose=0\n",
    "    te_countPose=0\n",
    "\n",
    "\n",
    "    with torch.no_grad():\n",
    "        for i, data in enumerate(val_dataloader, 0):\n",
    "            img, label_gender, label_glass, label_pose, imageName, TaskwiseLabelPresence = data\n",
    "            img = img.to(device)\n",
    "            label_gender = label_gender.to(device)\n",
    "            label_glass = label_glass.to(device)\n",
    "            label_pose = label_pose.to(device)\n",
    "            TaskwiseLabelPresence = TaskwiseLabelPresence.numpy()\n",
    "            img, label_gender, label_glass, label_pose = img.float(), label_gender.float(), label_glass.float(), label_pose.float()\n",
    "\n",
    "            FC_output_gender, FC_output_glasses, FC_output_angle = multi_task_net(img)\n",
    "\n",
    "            gender_IndSelect = np.where(TaskwiseLabelPresence[:, 0] == 1)\n",
    "            glasses_IndSelect = np.where(TaskwiseLabelPresence[:, 1] == 1)\n",
    "            pose_IndSelect = np.where(TaskwiseLabelPresence[:, 2] == 1)\n",
    "\n",
    "            if gender_IndSelect[0].shape[0] != 0:\n",
    "                y_true_gender.append(label_gender)\n",
    "                y_pred_gender.append(FC_output_gender)\n",
    "\n",
    "            if glasses_IndSelect[0].shape[0] != 0:\n",
    "                y_true_glass.append(label_glass)\n",
    "                y_pred_glass.append(FC_output_glasses)\n",
    "\n",
    "            if pose_IndSelect[0].shape[0] != 0:\n",
    "                y_true_pose.append(label_pose)\n",
    "                y_pred_pose.append(FC_output_angle)\n",
    "                loss3 = criterion_task3(FC_output_angle, label_pose)\n",
    "                R_te_errorPose += loss3.item()\n",
    "                te_countPose = te_countPose+1\n",
    "\n",
    "\n",
    "    y_true_gender = np.concatenate([t.cpu().numpy() for t in y_true_gender], axis=0)\n",
    "    y_pred_gender = np.concatenate([t.cpu().numpy() for t in y_pred_gender], axis=0)\n",
    "    y_true_glass = np.concatenate([t.cpu().numpy() for t in y_true_glass], axis=0)\n",
    "    y_pred_glass = np.concatenate([t.cpu().numpy() for t in y_pred_glass], axis=0)\n",
    "    y_true_pose = np.concatenate([t.cpu().numpy() for t in y_true_pose], axis=0)\n",
    "    y_pred_pose = np.concatenate([t.cpu().numpy() for t in y_pred_pose], axis=0)\n",
    "    y_true_pose = y_true_pose.reshape(-1)\n",
    "    y_pred_pose = y_pred_pose.reshape(-1)\n",
    "\n",
    "    # Print the results\n",
    "    r2 = r2_score(y_true_pose,y_pred_pose)\n",
    "    val_error_pose.append(R_te_errorPose/te_countPose)\n",
    "\n",
    "    print('No of epochs Trained: ',epoch+1)\n",
    "    print('For Gender Task:')\n",
    "    gender_accuracy_val.append(calculate_classification_metrics(y_true_gender,y_pred_gender))\n",
    "    print('For Glasses Task:')\n",
    "    glass_accuracy_val.append(calculate_classification_metrics(y_true_glass,y_pred_glass))\n",
    "    print('For Pose Task:')       \n",
    "    print(f\"R2 Score: {r2:.4f}\")\n",
    "    print('Training error pose: ' + str(R_te_errorPose/te_countPose))\n",
    "    multi_task_net.train()"
   ]
  },
  {
   "cell_type": "code",
   "execution_count": 17,
   "id": "23bccaaa",
   "metadata": {
    "execution": {
     "iopub.execute_input": "2024-04-24T07:24:07.057903Z",
     "iopub.status.busy": "2024-04-24T07:24:07.057633Z",
     "iopub.status.idle": "2024-04-24T07:24:07.071901Z",
     "shell.execute_reply": "2024-04-24T07:24:07.071085Z"
    },
    "papermill": {
     "duration": 0.024749,
     "end_time": "2024-04-24T07:24:07.073813",
     "exception": false,
     "start_time": "2024-04-24T07:24:07.049064",
     "status": "completed"
    },
    "tags": []
   },
   "outputs": [],
   "source": [
    "def testing_result(epoch, multi_task_net, test_dataloader):\n",
    "    \n",
    "        criterion_task3 = myMSElossPose(batch_size).to(device)\n",
    "        multi_task_net.eval()\n",
    "\n",
    "        y_true_glass = []\n",
    "        y_pred_glass = []\n",
    "        y_true_gender = []\n",
    "        y_pred_gender = []\n",
    "        y_true_pose = []\n",
    "        y_pred_pose = []\n",
    "        R_te_errorPose=0\n",
    "        te_countPose=0\n",
    "\n",
    "\n",
    "        with torch.no_grad():\n",
    "            for i, data in enumerate(test_dataloader, 0):\n",
    "                img, label_gender, label_glass, label_pose, imageName = data\n",
    "                img = img.to(device)\n",
    "                label_gender = label_gender.to(device)\n",
    "                label_glass = label_glass.to(device)\n",
    "                label_pose = label_pose.to(device)\n",
    "                img, label_gender, label_glass, label_pose = img.float(), label_gender.float(), label_glass.float(), label_pose.float()\n",
    "\n",
    "                # Make predictions\n",
    "                FC_output_gender, FC_output_glasses, FC_output_angle = multi_task_net(img)\n",
    "\n",
    "\n",
    "                # Calculate task-wise metrics\n",
    "                y_true_gender.append(label_gender)\n",
    "                y_pred_gender.append(FC_output_gender)\n",
    "\n",
    "                y_true_glass.append(label_glass)\n",
    "                y_pred_glass.append(FC_output_glasses)\n",
    "\n",
    "                y_true_pose.append(label_pose)\n",
    "                y_pred_pose.append(FC_output_angle)\n",
    "                loss3 = criterion_task3(FC_output_angle, label_pose)\n",
    "                R_te_errorPose += loss3.item()\n",
    "                te_countPose = te_countPose+1\n",
    "\n",
    "        \n",
    "        y_true_gender = np.concatenate([t.cpu().numpy() for t in y_true_gender], axis=0)\n",
    "        y_pred_gender = np.concatenate([t.cpu().numpy() for t in y_pred_gender], axis=0)\n",
    "        y_true_glass = np.concatenate([t.cpu().numpy() for t in y_true_glass], axis=0)\n",
    "        y_pred_glass = np.concatenate([t.cpu().numpy() for t in y_pred_glass], axis=0)\n",
    "        y_true_pose = np.concatenate([t.cpu().numpy() for t in y_true_pose], axis=0)\n",
    "        y_pred_pose = np.concatenate([t.cpu().numpy() for t in y_pred_pose], axis=0)\n",
    "        y_true_pose = y_true_pose.reshape(-1)\n",
    "        y_pred_pose = y_pred_pose.reshape(-1)\n",
    "\n",
    "        r2 = r2_score(y_true_pose,y_pred_pose)\n",
    "        testing_error_pose.append(R_te_errorPose/te_countPose)\n",
    "\n",
    "        # Print the results\n",
    "        print('No of epochs Trained: ',epoch+1)\n",
    "        print('For Gender Task:')\n",
    "        gender_accuracy_test.append(calculate_classification_metrics(y_true_gender,y_pred_gender))\n",
    "        print('For Glasses Task:')\n",
    "        glass_accuracy_test.append(calculate_classification_metrics(y_true_glass,y_pred_glass))\n",
    "        print('For Pose Task:')       \n",
    "        print(f\"R2 Score: {r2:.4f}\")\n",
    "        print('Testing error pose: ' + str(R_te_errorPose/te_countPose))\n",
    "        multi_task_net.train()"
   ]
  },
  {
   "cell_type": "code",
   "execution_count": 18,
   "id": "c496dbd4",
   "metadata": {
    "execution": {
     "iopub.execute_input": "2024-04-24T07:24:07.090856Z",
     "iopub.status.busy": "2024-04-24T07:24:07.090616Z",
     "iopub.status.idle": "2024-04-24T08:13:03.856100Z",
     "shell.execute_reply": "2024-04-24T08:13:03.854753Z"
    },
    "papermill": {
     "duration": 2936.792431,
     "end_time": "2024-04-24T08:13:03.874205",
     "exception": false,
     "start_time": "2024-04-24T07:24:07.081774",
     "status": "completed"
    },
    "tags": []
   },
   "outputs": [
    {
     "name": "stdout",
     "output_type": "stream",
     "text": [
      "Epoch: 0\n"
     ]
    },
    {
     "name": "stderr",
     "output_type": "stream",
     "text": [
      "/opt/conda/lib/python3.10/site-packages/torch/nn/modules/module.py:1518: UserWarning: Implicit dimension choice for softmax has been deprecated. Change the call to include dim=X as an argument.\n",
      "  return self._call_impl(*args, **kwargs)\n"
     ]
    },
    {
     "name": "stdout",
     "output_type": "stream",
     "text": [
      "Task1 Loss: 0.7286, Task2 Loss: 0.3507, Task3 Loss: 0.1670, Total Loss: 1.2463\n",
      "Training Result\n",
      "No of epochs Trained:  1\n",
      "For Gender Task:\n",
      "For Class 0:\n",
      "Precision_0: 0.5750, Recall_0: 0.9542, Accuracy_0: 0.5689, F1 Score_0: 0.7176\n",
      "For Class 1:\n",
      "Precision_1: 0.4481, Recall_1: 0.0500, Accuracy_1: 0.5689, F1 Score_1: 0.0900\n",
      "For Glasses Task:\n",
      "For Class 0:\n",
      "Precision_0: 0.9288, Recall_0: 1.0000, Accuracy_0: 0.9288, F1 Score_0: 0.9631\n",
      "For Class 1:\n",
      "Precision_1: 0.0000, Recall_1: 0.0000, Accuracy_1: 0.9288, F1 Score_1: 0.0000\n",
      "For Pose Task:\n",
      "R2 Score: -18.1603\n",
      "Training error pose: 0.13548252022410012\n",
      "Validation Result\n"
     ]
    },
    {
     "name": "stderr",
     "output_type": "stream",
     "text": [
      "/opt/conda/lib/python3.10/site-packages/sklearn/metrics/_classification.py:1344: UndefinedMetricWarning: Precision is ill-defined and being set to 0.0 due to no predicted samples. Use `zero_division` parameter to control this behavior.\n",
      "  _warn_prf(average, modifier, msg_start, len(result))\n",
      "/opt/conda/lib/python3.10/site-packages/torch/nn/modules/module.py:1518: UserWarning: Implicit dimension choice for softmax has been deprecated. Change the call to include dim=X as an argument.\n",
      "  return self._call_impl(*args, **kwargs)\n"
     ]
    },
    {
     "name": "stdout",
     "output_type": "stream",
     "text": [
      "No of epochs Trained:  1\n",
      "For Gender Task:\n",
      "For Class 0:\n",
      "Precision_0: 0.5843, Recall_0: 0.9479, Accuracy_0: 0.5774, F1 Score_0: 0.7230\n",
      "For Class 1:\n",
      "Precision_1: 0.4619, Recall_1: 0.0622, Accuracy_1: 0.5774, F1 Score_1: 0.1096\n",
      "For Glasses Task:\n",
      "For Class 0:\n",
      "Precision_0: 0.9229, Recall_0: 1.0000, Accuracy_0: 0.9229, F1 Score_0: 0.9599\n",
      "For Class 1:\n",
      "Precision_1: 0.0000, Recall_1: 0.0000, Accuracy_1: 0.9229, F1 Score_1: 0.0000\n",
      "For Pose Task:\n",
      "R2 Score: -17.7745\n",
      "Training error pose: 0.1328635750072343\n",
      "Testing Result\n"
     ]
    },
    {
     "name": "stderr",
     "output_type": "stream",
     "text": [
      "/opt/conda/lib/python3.10/site-packages/sklearn/metrics/_classification.py:1344: UndefinedMetricWarning: Precision is ill-defined and being set to 0.0 due to no predicted samples. Use `zero_division` parameter to control this behavior.\n",
      "  _warn_prf(average, modifier, msg_start, len(result))\n",
      "/opt/conda/lib/python3.10/site-packages/torch/nn/modules/module.py:1518: UserWarning: Implicit dimension choice for softmax has been deprecated. Change the call to include dim=X as an argument.\n",
      "  return self._call_impl(*args, **kwargs)\n"
     ]
    },
    {
     "name": "stdout",
     "output_type": "stream",
     "text": [
      "No of epochs Trained:  1\n",
      "For Gender Task:\n",
      "For Class 0:\n",
      "Precision_0: 0.6190, Recall_0: 0.9619, Accuracy_0: 0.6104, F1 Score_0: 0.7533\n",
      "For Class 1:\n",
      "Precision_1: 0.4000, Recall_1: 0.0411, Accuracy_1: 0.6104, F1 Score_1: 0.0745\n",
      "For Glasses Task:\n",
      "For Class 0:\n",
      "Precision_0: 0.9220, Recall_0: 1.0000, Accuracy_0: 0.9220, F1 Score_0: 0.9594\n",
      "For Class 1:\n",
      "Precision_1: 0.0000, Recall_1: 0.0000, Accuracy_1: 0.9220, F1 Score_1: 0.0000\n",
      "For Pose Task:\n",
      "R2 Score: -21.3387\n",
      "Testing error pose: 0.12922104170509413\n",
      "Epoch: 1\n"
     ]
    },
    {
     "name": "stderr",
     "output_type": "stream",
     "text": [
      "/opt/conda/lib/python3.10/site-packages/sklearn/metrics/_classification.py:1344: UndefinedMetricWarning: Precision is ill-defined and being set to 0.0 due to no predicted samples. Use `zero_division` parameter to control this behavior.\n",
      "  _warn_prf(average, modifier, msg_start, len(result))\n",
      "/opt/conda/lib/python3.10/site-packages/torch/nn/modules/module.py:1518: UserWarning: Implicit dimension choice for softmax has been deprecated. Change the call to include dim=X as an argument.\n",
      "  return self._call_impl(*args, **kwargs)\n"
     ]
    },
    {
     "name": "stdout",
     "output_type": "stream",
     "text": [
      "Task1 Loss: 16.7892, Task2 Loss: 0.2756, Task3 Loss: 0.0530, Total Loss: 17.1178\n",
      "Training Result\n",
      "No of epochs Trained:  2\n",
      "For Gender Task:\n",
      "For Class 0:\n",
      "Precision_0: 0.0000, Recall_0: 0.0000, Accuracy_0: 0.4263, F1 Score_0: 0.0000\n",
      "For Class 1:\n",
      "Precision_1: 0.4263, Recall_1: 1.0000, Accuracy_1: 0.4263, F1 Score_1: 0.5977\n",
      "For Glasses Task:\n"
     ]
    },
    {
     "name": "stderr",
     "output_type": "stream",
     "text": [
      "/opt/conda/lib/python3.10/site-packages/sklearn/metrics/_classification.py:1344: UndefinedMetricWarning: Precision is ill-defined and being set to 0.0 due to no predicted samples. Use `zero_division` parameter to control this behavior.\n",
      "  _warn_prf(average, modifier, msg_start, len(result))\n",
      "/opt/conda/lib/python3.10/site-packages/sklearn/metrics/_classification.py:1344: UndefinedMetricWarning: Precision is ill-defined and being set to 0.0 due to no predicted samples. Use `zero_division` parameter to control this behavior.\n",
      "  _warn_prf(average, modifier, msg_start, len(result))\n"
     ]
    },
    {
     "name": "stdout",
     "output_type": "stream",
     "text": [
      "For Class 0:\n",
      "Precision_0: 0.9289, Recall_0: 1.0000, Accuracy_0: 0.9289, F1 Score_0: 0.9631\n",
      "For Class 1:\n",
      "Precision_1: 0.0000, Recall_1: 0.0000, Accuracy_1: 0.9289, F1 Score_1: 0.0000\n",
      "For Pose Task:\n",
      "R2 Score: -36.9034\n",
      "Training error pose: 0.26774619896727875\n",
      "Validation Result\n"
     ]
    },
    {
     "name": "stderr",
     "output_type": "stream",
     "text": [
      "/opt/conda/lib/python3.10/site-packages/torch/nn/modules/module.py:1518: UserWarning: Implicit dimension choice for softmax has been deprecated. Change the call to include dim=X as an argument.\n",
      "  return self._call_impl(*args, **kwargs)\n"
     ]
    },
    {
     "name": "stdout",
     "output_type": "stream",
     "text": [
      "No of epochs Trained:  2\n",
      "For Gender Task:\n",
      "For Class 0:\n",
      "Precision_0: 0.0000, Recall_0: 0.0000, Accuracy_0: 0.4183, F1 Score_0: 0.0000\n",
      "For Class 1:\n",
      "Precision_1: 0.4183, Recall_1: 1.0000, Accuracy_1: 0.4183, F1 Score_1: 0.5898\n",
      "For Glasses Task:\n",
      "For Class 0:\n",
      "Precision_0: 0.9229, Recall_0: 1.0000, Accuracy_0: 0.9229, F1 Score_0: 0.9599\n",
      "For Class 1:\n",
      "Precision_1: 0.0000, Recall_1: 0.0000, Accuracy_1: 0.9229, F1 Score_1: 0.0000\n",
      "For Pose Task:\n",
      "R2 Score: -36.8840\n",
      "Training error pose: 0.2680978749479566\n",
      "Testing Result\n"
     ]
    },
    {
     "name": "stderr",
     "output_type": "stream",
     "text": [
      "/opt/conda/lib/python3.10/site-packages/sklearn/metrics/_classification.py:1344: UndefinedMetricWarning: Precision is ill-defined and being set to 0.0 due to no predicted samples. Use `zero_division` parameter to control this behavior.\n",
      "  _warn_prf(average, modifier, msg_start, len(result))\n",
      "/opt/conda/lib/python3.10/site-packages/sklearn/metrics/_classification.py:1344: UndefinedMetricWarning: Precision is ill-defined and being set to 0.0 due to no predicted samples. Use `zero_division` parameter to control this behavior.\n",
      "  _warn_prf(average, modifier, msg_start, len(result))\n",
      "/opt/conda/lib/python3.10/site-packages/torch/nn/modules/module.py:1518: UserWarning: Implicit dimension choice for softmax has been deprecated. Change the call to include dim=X as an argument.\n",
      "  return self._call_impl(*args, **kwargs)\n"
     ]
    },
    {
     "name": "stdout",
     "output_type": "stream",
     "text": [
      "No of epochs Trained:  2\n",
      "For Gender Task:\n",
      "For Class 0:\n",
      "Precision_0: 0.0000, Recall_0: 0.0000, Accuracy_0: 0.3818, F1 Score_0: 0.0000\n",
      "For Class 1:\n",
      "Precision_1: 0.3818, Recall_1: 1.0000, Accuracy_1: 0.3818, F1 Score_1: 0.5526\n",
      "For Glasses Task:\n",
      "For Class 0:\n",
      "Precision_0: 0.9220, Recall_0: 1.0000, Accuracy_0: 0.9220, F1 Score_0: 0.9594\n",
      "For Class 1:\n",
      "Precision_1: 0.0000, Recall_1: 0.0000, Accuracy_1: 0.9220, F1 Score_1: 0.0000\n",
      "For Pose Task:\n",
      "R2 Score: -37.2590\n",
      "Testing error pose: 0.22131421490042819\n"
     ]
    },
    {
     "name": "stderr",
     "output_type": "stream",
     "text": [
      "/opt/conda/lib/python3.10/site-packages/sklearn/metrics/_classification.py:1344: UndefinedMetricWarning: Precision is ill-defined and being set to 0.0 due to no predicted samples. Use `zero_division` parameter to control this behavior.\n",
      "  _warn_prf(average, modifier, msg_start, len(result))\n",
      "/opt/conda/lib/python3.10/site-packages/sklearn/metrics/_classification.py:1344: UndefinedMetricWarning: Precision is ill-defined and being set to 0.0 due to no predicted samples. Use `zero_division` parameter to control this behavior.\n",
      "  _warn_prf(average, modifier, msg_start, len(result))\n"
     ]
    },
    {
     "name": "stdout",
     "output_type": "stream",
     "text": [
      "Epoch: 2\n"
     ]
    },
    {
     "name": "stderr",
     "output_type": "stream",
     "text": [
      "/opt/conda/lib/python3.10/site-packages/torch/nn/modules/module.py:1518: UserWarning: Implicit dimension choice for softmax has been deprecated. Change the call to include dim=X as an argument.\n",
      "  return self._call_impl(*args, **kwargs)\n"
     ]
    },
    {
     "name": "stdout",
     "output_type": "stream",
     "text": [
      "Task1 Loss: 58.0788, Task2 Loss: 0.2651, Task3 Loss: 0.0387, Total Loss: 58.3827\n",
      "Training Result\n",
      "No of epochs Trained:  3\n",
      "For Gender Task:\n",
      "For Class 0:\n",
      "Precision_0: 0.0000, Recall_0: 0.0000, Accuracy_0: 0.4260, F1 Score_0: 0.0000\n",
      "For Class 1:\n",
      "Precision_1: 0.4260, Recall_1: 1.0000, Accuracy_1: 0.4260, F1 Score_1: 0.5975\n",
      "For Glasses Task:\n"
     ]
    },
    {
     "name": "stderr",
     "output_type": "stream",
     "text": [
      "/opt/conda/lib/python3.10/site-packages/sklearn/metrics/_classification.py:1344: UndefinedMetricWarning: Precision is ill-defined and being set to 0.0 due to no predicted samples. Use `zero_division` parameter to control this behavior.\n",
      "  _warn_prf(average, modifier, msg_start, len(result))\n",
      "/opt/conda/lib/python3.10/site-packages/sklearn/metrics/_classification.py:1344: UndefinedMetricWarning: Precision is ill-defined and being set to 0.0 due to no predicted samples. Use `zero_division` parameter to control this behavior.\n",
      "  _warn_prf(average, modifier, msg_start, len(result))\n"
     ]
    },
    {
     "name": "stdout",
     "output_type": "stream",
     "text": [
      "For Class 0:\n",
      "Precision_0: 0.9289, Recall_0: 1.0000, Accuracy_0: 0.9289, F1 Score_0: 0.9631\n",
      "For Class 1:\n",
      "Precision_1: 0.0000, Recall_1: 0.0000, Accuracy_1: 0.9289, F1 Score_1: 0.0000\n",
      "For Pose Task:\n",
      "R2 Score: -3.3800\n",
      "Training error pose: 0.03096864287214107\n",
      "Validation Result\n"
     ]
    },
    {
     "name": "stderr",
     "output_type": "stream",
     "text": [
      "/opt/conda/lib/python3.10/site-packages/torch/nn/modules/module.py:1518: UserWarning: Implicit dimension choice for softmax has been deprecated. Change the call to include dim=X as an argument.\n",
      "  return self._call_impl(*args, **kwargs)\n"
     ]
    },
    {
     "name": "stdout",
     "output_type": "stream",
     "text": [
      "No of epochs Trained:  3\n",
      "For Gender Task:\n",
      "For Class 0:\n",
      "Precision_0: 0.0000, Recall_0: 0.0000, Accuracy_0: 0.4183, F1 Score_0: 0.0000\n",
      "For Class 1:\n",
      "Precision_1: 0.4183, Recall_1: 1.0000, Accuracy_1: 0.4183, F1 Score_1: 0.5898\n",
      "For Glasses Task:\n",
      "For Class 0:\n",
      "Precision_0: 0.9229, Recall_0: 1.0000, Accuracy_0: 0.9229, F1 Score_0: 0.9599\n",
      "For Class 1:\n",
      "Precision_1: 0.0000, Recall_1: 0.0000, Accuracy_1: 0.9229, F1 Score_1: 0.0000\n",
      "For Pose Task:\n",
      "R2 Score: -3.4254\n",
      "Training error pose: 0.031317516203437534\n",
      "Testing Result\n"
     ]
    },
    {
     "name": "stderr",
     "output_type": "stream",
     "text": [
      "/opt/conda/lib/python3.10/site-packages/sklearn/metrics/_classification.py:1344: UndefinedMetricWarning: Precision is ill-defined and being set to 0.0 due to no predicted samples. Use `zero_division` parameter to control this behavior.\n",
      "  _warn_prf(average, modifier, msg_start, len(result))\n",
      "/opt/conda/lib/python3.10/site-packages/sklearn/metrics/_classification.py:1344: UndefinedMetricWarning: Precision is ill-defined and being set to 0.0 due to no predicted samples. Use `zero_division` parameter to control this behavior.\n",
      "  _warn_prf(average, modifier, msg_start, len(result))\n",
      "/opt/conda/lib/python3.10/site-packages/torch/nn/modules/module.py:1518: UserWarning: Implicit dimension choice for softmax has been deprecated. Change the call to include dim=X as an argument.\n",
      "  return self._call_impl(*args, **kwargs)\n"
     ]
    },
    {
     "name": "stdout",
     "output_type": "stream",
     "text": [
      "No of epochs Trained:  3\n",
      "For Gender Task:\n",
      "For Class 0:\n",
      "Precision_0: 0.0000, Recall_0: 0.0000, Accuracy_0: 0.3818, F1 Score_0: 0.0000\n",
      "For Class 1:\n",
      "Precision_1: 0.3818, Recall_1: 1.0000, Accuracy_1: 0.3818, F1 Score_1: 0.5526\n",
      "For Glasses Task:\n",
      "For Class 0:\n",
      "Precision_0: 0.9220, Recall_0: 1.0000, Accuracy_0: 0.9220, F1 Score_0: 0.9594\n",
      "For Class 1:\n",
      "Precision_1: 0.0000, Recall_1: 0.0000, Accuracy_1: 0.9220, F1 Score_1: 0.0000\n",
      "For Pose Task:\n",
      "R2 Score: -4.0369\n",
      "Testing error pose: 0.029136713119406327\n"
     ]
    },
    {
     "name": "stderr",
     "output_type": "stream",
     "text": [
      "/opt/conda/lib/python3.10/site-packages/sklearn/metrics/_classification.py:1344: UndefinedMetricWarning: Precision is ill-defined and being set to 0.0 due to no predicted samples. Use `zero_division` parameter to control this behavior.\n",
      "  _warn_prf(average, modifier, msg_start, len(result))\n",
      "/opt/conda/lib/python3.10/site-packages/sklearn/metrics/_classification.py:1344: UndefinedMetricWarning: Precision is ill-defined and being set to 0.0 due to no predicted samples. Use `zero_division` parameter to control this behavior.\n",
      "  _warn_prf(average, modifier, msg_start, len(result))\n"
     ]
    },
    {
     "name": "stdout",
     "output_type": "stream",
     "text": [
      "Epoch: 3\n"
     ]
    },
    {
     "name": "stderr",
     "output_type": "stream",
     "text": [
      "/opt/conda/lib/python3.10/site-packages/torch/nn/modules/module.py:1518: UserWarning: Implicit dimension choice for softmax has been deprecated. Change the call to include dim=X as an argument.\n",
      "  return self._call_impl(*args, **kwargs)\n"
     ]
    },
    {
     "name": "stdout",
     "output_type": "stream",
     "text": [
      "Task1 Loss: 58.1475, Task2 Loss: 0.2676, Task3 Loss: 0.0363, Total Loss: 58.4514\n",
      "Training Result\n",
      "No of epochs Trained:  4\n",
      "For Gender Task:\n",
      "For Class 0:\n",
      "Precision_0: 0.0000, Recall_0: 0.0000, Accuracy_0: 0.4265, F1 Score_0: 0.0000\n",
      "For Class 1:\n",
      "Precision_1: 0.4265, Recall_1: 1.0000, Accuracy_1: 0.4265, F1 Score_1: 0.5980\n",
      "For Glasses Task:\n"
     ]
    },
    {
     "name": "stderr",
     "output_type": "stream",
     "text": [
      "/opt/conda/lib/python3.10/site-packages/sklearn/metrics/_classification.py:1344: UndefinedMetricWarning: Precision is ill-defined and being set to 0.0 due to no predicted samples. Use `zero_division` parameter to control this behavior.\n",
      "  _warn_prf(average, modifier, msg_start, len(result))\n",
      "/opt/conda/lib/python3.10/site-packages/sklearn/metrics/_classification.py:1344: UndefinedMetricWarning: Precision is ill-defined and being set to 0.0 due to no predicted samples. Use `zero_division` parameter to control this behavior.\n",
      "  _warn_prf(average, modifier, msg_start, len(result))\n"
     ]
    },
    {
     "name": "stdout",
     "output_type": "stream",
     "text": [
      "For Class 0:\n",
      "Precision_0: 0.9289, Recall_0: 1.0000, Accuracy_0: 0.9289, F1 Score_0: 0.9631\n",
      "For Class 1:\n",
      "Precision_1: 0.0000, Recall_1: 0.0000, Accuracy_1: 0.9289, F1 Score_1: 0.0000\n",
      "For Pose Task:\n",
      "R2 Score: -4.7279\n",
      "Training error pose: 0.040481435853135156\n",
      "Validation Result\n"
     ]
    },
    {
     "name": "stderr",
     "output_type": "stream",
     "text": [
      "/opt/conda/lib/python3.10/site-packages/torch/nn/modules/module.py:1518: UserWarning: Implicit dimension choice for softmax has been deprecated. Change the call to include dim=X as an argument.\n",
      "  return self._call_impl(*args, **kwargs)\n"
     ]
    },
    {
     "name": "stdout",
     "output_type": "stream",
     "text": [
      "No of epochs Trained:  4\n",
      "For Gender Task:\n",
      "For Class 0:\n",
      "Precision_0: 0.0000, Recall_0: 0.0000, Accuracy_0: 0.4183, F1 Score_0: 0.0000\n",
      "For Class 1:\n",
      "Precision_1: 0.4183, Recall_1: 1.0000, Accuracy_1: 0.4183, F1 Score_1: 0.5898\n",
      "For Glasses Task:\n",
      "For Class 0:\n",
      "Precision_0: 0.9229, Recall_0: 1.0000, Accuracy_0: 0.9229, F1 Score_0: 0.9599\n",
      "For Class 1:\n",
      "Precision_1: 0.0000, Recall_1: 0.0000, Accuracy_1: 0.9229, F1 Score_1: 0.0000\n",
      "For Pose Task:\n",
      "R2 Score: -4.8825\n",
      "Training error pose: 0.04162922709115914\n",
      "Testing Result\n"
     ]
    },
    {
     "name": "stderr",
     "output_type": "stream",
     "text": [
      "/opt/conda/lib/python3.10/site-packages/sklearn/metrics/_classification.py:1344: UndefinedMetricWarning: Precision is ill-defined and being set to 0.0 due to no predicted samples. Use `zero_division` parameter to control this behavior.\n",
      "  _warn_prf(average, modifier, msg_start, len(result))\n",
      "/opt/conda/lib/python3.10/site-packages/sklearn/metrics/_classification.py:1344: UndefinedMetricWarning: Precision is ill-defined and being set to 0.0 due to no predicted samples. Use `zero_division` parameter to control this behavior.\n",
      "  _warn_prf(average, modifier, msg_start, len(result))\n",
      "/opt/conda/lib/python3.10/site-packages/torch/nn/modules/module.py:1518: UserWarning: Implicit dimension choice for softmax has been deprecated. Change the call to include dim=X as an argument.\n",
      "  return self._call_impl(*args, **kwargs)\n"
     ]
    },
    {
     "name": "stdout",
     "output_type": "stream",
     "text": [
      "No of epochs Trained:  4\n",
      "For Gender Task:\n",
      "For Class 0:\n",
      "Precision_0: 0.0000, Recall_0: 0.0000, Accuracy_0: 0.3818, F1 Score_0: 0.0000\n",
      "For Class 1:\n",
      "Precision_1: 0.3818, Recall_1: 1.0000, Accuracy_1: 0.3818, F1 Score_1: 0.5526\n",
      "For Glasses Task:\n",
      "For Class 0:\n",
      "Precision_0: 0.9220, Recall_0: 1.0000, Accuracy_0: 0.9220, F1 Score_0: 0.9594\n",
      "For Class 1:\n",
      "Precision_1: 0.0000, Recall_1: 0.0000, Accuracy_1: 0.9220, F1 Score_1: 0.0000\n",
      "For Pose Task:\n",
      "R2 Score: -4.4027\n",
      "Testing error pose: 0.03125283744770522\n"
     ]
    },
    {
     "name": "stderr",
     "output_type": "stream",
     "text": [
      "/opt/conda/lib/python3.10/site-packages/sklearn/metrics/_classification.py:1344: UndefinedMetricWarning: Precision is ill-defined and being set to 0.0 due to no predicted samples. Use `zero_division` parameter to control this behavior.\n",
      "  _warn_prf(average, modifier, msg_start, len(result))\n",
      "/opt/conda/lib/python3.10/site-packages/sklearn/metrics/_classification.py:1344: UndefinedMetricWarning: Precision is ill-defined and being set to 0.0 due to no predicted samples. Use `zero_division` parameter to control this behavior.\n",
      "  _warn_prf(average, modifier, msg_start, len(result))\n"
     ]
    },
    {
     "name": "stdout",
     "output_type": "stream",
     "text": [
      "Epoch: 4\n"
     ]
    },
    {
     "name": "stderr",
     "output_type": "stream",
     "text": [
      "/opt/conda/lib/python3.10/site-packages/torch/nn/modules/module.py:1518: UserWarning: Implicit dimension choice for softmax has been deprecated. Change the call to include dim=X as an argument.\n",
      "  return self._call_impl(*args, **kwargs)\n"
     ]
    },
    {
     "name": "stdout",
     "output_type": "stream",
     "text": [
      "Task1 Loss: 57.9696, Task2 Loss: 0.2669, Task3 Loss: 0.0312, Total Loss: 58.2677\n",
      "Training Result\n",
      "No of epochs Trained:  5\n",
      "For Gender Task:\n",
      "For Class 0:\n",
      "Precision_0: 0.0000, Recall_0: 0.0000, Accuracy_0: 0.4263, F1 Score_0: 0.0000\n",
      "For Class 1:\n",
      "Precision_1: 0.4263, Recall_1: 1.0000, Accuracy_1: 0.4263, F1 Score_1: 0.5977\n",
      "For Glasses Task:\n"
     ]
    },
    {
     "name": "stderr",
     "output_type": "stream",
     "text": [
      "/opt/conda/lib/python3.10/site-packages/sklearn/metrics/_classification.py:1344: UndefinedMetricWarning: Precision is ill-defined and being set to 0.0 due to no predicted samples. Use `zero_division` parameter to control this behavior.\n",
      "  _warn_prf(average, modifier, msg_start, len(result))\n",
      "/opt/conda/lib/python3.10/site-packages/sklearn/metrics/_classification.py:1344: UndefinedMetricWarning: Precision is ill-defined and being set to 0.0 due to no predicted samples. Use `zero_division` parameter to control this behavior.\n",
      "  _warn_prf(average, modifier, msg_start, len(result))\n"
     ]
    },
    {
     "name": "stdout",
     "output_type": "stream",
     "text": [
      "For Class 0:\n",
      "Precision_0: 0.9286, Recall_0: 1.0000, Accuracy_0: 0.9286, F1 Score_0: 0.9630\n",
      "For Class 1:\n",
      "Precision_1: 0.0000, Recall_1: 0.0000, Accuracy_1: 0.9286, F1 Score_1: 0.0000\n",
      "For Pose Task:\n",
      "R2 Score: -3.2487\n",
      "Training error pose: 0.030027149671531587\n",
      "Validation Result\n"
     ]
    },
    {
     "name": "stderr",
     "output_type": "stream",
     "text": [
      "/opt/conda/lib/python3.10/site-packages/torch/nn/modules/module.py:1518: UserWarning: Implicit dimension choice for softmax has been deprecated. Change the call to include dim=X as an argument.\n",
      "  return self._call_impl(*args, **kwargs)\n"
     ]
    },
    {
     "name": "stdout",
     "output_type": "stream",
     "text": [
      "No of epochs Trained:  5\n",
      "For Gender Task:\n",
      "For Class 0:\n",
      "Precision_0: 0.0000, Recall_0: 0.0000, Accuracy_0: 0.4183, F1 Score_0: 0.0000\n",
      "For Class 1:\n",
      "Precision_1: 0.4183, Recall_1: 1.0000, Accuracy_1: 0.4183, F1 Score_1: 0.5898\n",
      "For Glasses Task:\n",
      "For Class 0:\n",
      "Precision_0: 0.9229, Recall_0: 1.0000, Accuracy_0: 0.9229, F1 Score_0: 0.9599\n",
      "For Class 1:\n",
      "Precision_1: 0.0000, Recall_1: 0.0000, Accuracy_1: 0.9229, F1 Score_1: 0.0000\n",
      "For Pose Task:\n",
      "R2 Score: -3.3097\n",
      "Training error pose: 0.030499037887368883\n",
      "Testing Result\n"
     ]
    },
    {
     "name": "stderr",
     "output_type": "stream",
     "text": [
      "/opt/conda/lib/python3.10/site-packages/sklearn/metrics/_classification.py:1344: UndefinedMetricWarning: Precision is ill-defined and being set to 0.0 due to no predicted samples. Use `zero_division` parameter to control this behavior.\n",
      "  _warn_prf(average, modifier, msg_start, len(result))\n",
      "/opt/conda/lib/python3.10/site-packages/sklearn/metrics/_classification.py:1344: UndefinedMetricWarning: Precision is ill-defined and being set to 0.0 due to no predicted samples. Use `zero_division` parameter to control this behavior.\n",
      "  _warn_prf(average, modifier, msg_start, len(result))\n",
      "/opt/conda/lib/python3.10/site-packages/torch/nn/modules/module.py:1518: UserWarning: Implicit dimension choice for softmax has been deprecated. Change the call to include dim=X as an argument.\n",
      "  return self._call_impl(*args, **kwargs)\n"
     ]
    },
    {
     "name": "stdout",
     "output_type": "stream",
     "text": [
      "No of epochs Trained:  5\n",
      "For Gender Task:\n",
      "For Class 0:\n",
      "Precision_0: 0.0000, Recall_0: 0.0000, Accuracy_0: 0.3818, F1 Score_0: 0.0000\n",
      "For Class 1:\n",
      "Precision_1: 0.3818, Recall_1: 1.0000, Accuracy_1: 0.3818, F1 Score_1: 0.5526\n",
      "For Glasses Task:\n",
      "For Class 0:\n",
      "Precision_0: 0.9220, Recall_0: 1.0000, Accuracy_0: 0.9220, F1 Score_0: 0.9594\n",
      "For Class 1:\n",
      "Precision_1: 0.0000, Recall_1: 0.0000, Accuracy_1: 0.9220, F1 Score_1: 0.0000\n",
      "For Pose Task:\n",
      "R2 Score: -3.5729\n",
      "Testing error pose: 0.026452805755623414\n"
     ]
    },
    {
     "name": "stderr",
     "output_type": "stream",
     "text": [
      "/opt/conda/lib/python3.10/site-packages/sklearn/metrics/_classification.py:1344: UndefinedMetricWarning: Precision is ill-defined and being set to 0.0 due to no predicted samples. Use `zero_division` parameter to control this behavior.\n",
      "  _warn_prf(average, modifier, msg_start, len(result))\n",
      "/opt/conda/lib/python3.10/site-packages/sklearn/metrics/_classification.py:1344: UndefinedMetricWarning: Precision is ill-defined and being set to 0.0 due to no predicted samples. Use `zero_division` parameter to control this behavior.\n",
      "  _warn_prf(average, modifier, msg_start, len(result))\n"
     ]
    },
    {
     "name": "stdout",
     "output_type": "stream",
     "text": [
      "Epoch: 5\n"
     ]
    },
    {
     "name": "stderr",
     "output_type": "stream",
     "text": [
      "/opt/conda/lib/python3.10/site-packages/torch/nn/modules/module.py:1518: UserWarning: Implicit dimension choice for softmax has been deprecated. Change the call to include dim=X as an argument.\n",
      "  return self._call_impl(*args, **kwargs)\n"
     ]
    },
    {
     "name": "stdout",
     "output_type": "stream",
     "text": [
      "Task1 Loss: 58.1878, Task2 Loss: 0.2639, Task3 Loss: 0.0237, Total Loss: 58.4755\n",
      "Early stopping triggered.\n"
     ]
    }
   ],
   "source": [
    "for epoch in range(NumEpochs):\n",
    "    print(\"Epoch: %d\" % epoch)\n",
    "    rloss1 = 0.0\n",
    "    rloss2 = 0.0\n",
    "    rloss3 = 0.0\n",
    "    rnet_loss = 0.0\n",
    "\n",
    "    multi_task_net.train()\n",
    "    for i, data in enumerate(train_dataloader, 0):\n",
    "        img, label_gender, label_glass, label_pose, imageName, TaskwiseLabelPresence = data\n",
    "        img = img.to(device)\n",
    "        label_gender = label_gender.to(device)\n",
    "        label_glass = label_glass.to(device)\n",
    "        label_pose = label_pose.to(device)\n",
    "        TaskwiseLabelPresence = TaskwiseLabelPresence.numpy()\n",
    "      \n",
    "        img, label_gender, label_glass, label_pose = img.float(), label_gender.float(), label_glass.float(), label_pose.float()\n",
    "\n",
    "        # Zero the gradients\n",
    "        optimizer.zero_grad()\n",
    "\n",
    "        FC_output_gender, FC_output_glasses, FC_output_angle = multi_task_net(img)\n",
    "\n",
    "        gender_IndSelect = np.where(TaskwiseLabelPresence[:, 0] == 1)\n",
    "        glasses_IndSelect = np.where(TaskwiseLabelPresence[:, 1] == 1)\n",
    "        pose_IndSelect = np.where(TaskwiseLabelPresence[:, 2] == 1)\n",
    "\n",
    "        if gender_IndSelect[0].shape[0] != 0:\n",
    "            loss1 = criterion_task1(FC_output_gender[gender_IndSelect[0]], label_gender[gender_IndSelect[0]])\n",
    "            rloss1 += loss1.item()\n",
    "        else:\n",
    "            loss1 = 0.0\n",
    "\n",
    "        if glasses_IndSelect[0].shape[0] != 0:\n",
    "            loss2 = criterion_task2(FC_output_glasses[glasses_IndSelect], label_glass[glasses_IndSelect])\n",
    "            rloss2 += loss2.item()\n",
    "        else:\n",
    "            loss2 = 0.0\n",
    "\n",
    "        if pose_IndSelect[0].shape[0] != 0:\n",
    "            loss3 = criterion_task3(FC_output_angle[pose_IndSelect[0]], label_pose[pose_IndSelect[0]])\n",
    "            rloss3 += loss3.item()\n",
    "        else:\n",
    "            loss3 = 0.0\n",
    "\n",
    "        NetLoss = loss1 + loss2 + loss3\n",
    "\n",
    "        if epoch != 0:\n",
    "            NetLoss.backward()\n",
    "            optimizer.step()\n",
    "\n",
    "        rnet_loss += NetLoss.item()\n",
    "\n",
    "    print(\"Task1 Loss: {:.4f}, Task2 Loss: {:.4f}, Task3 Loss: {:.4f}, Total Loss: {:.4f}\".format(\n",
    "        rloss1 / len(train_dataloader),\n",
    "        rloss2 / len(train_dataloader),\n",
    "        rloss3 / len(train_dataloader),\n",
    "        rnet_loss / len(train_dataloader)\n",
    "    ))\n",
    "\n",
    "\n",
    "    multi_task_net.eval()\n",
    "    with torch.no_grad():\n",
    "        val_loss = 0.0\n",
    "        for i, data in enumerate(val_dataloader, 0):\n",
    "            img, label_gender, label_glass, label_pose, imageName, TaskwiseLabelPresence = data\n",
    "            img = img.to(device)\n",
    "            label_gender = label_gender.to(device)\n",
    "            label_glass = label_glass.to(device)\n",
    "            label_pose = label_pose.to(device)\n",
    "            TaskwiseLabelPresence = TaskwiseLabelPresence.numpy()\n",
    "            img, label_gender, label_glass, label_pose = img.float(), label_gender.float(), label_glass.float(), label_pose.float()\n",
    "\n",
    "            FC_output_gender, FC_output_glasses, FC_output_angle = multi_task_net(img)\n",
    "\n",
    "            gender_IndSelect = np.where(TaskwiseLabelPresence[:, 0] == 1)\n",
    "            glasses_IndSelect = np.where(TaskwiseLabelPresence[:, 1] == 1)\n",
    "            pose_IndSelect = np.where(TaskwiseLabelPresence[:, 2] == 1)\n",
    "\n",
    "            loss1 = criterion_task1(FC_output_gender[gender_IndSelect[0]], label_gender[gender_IndSelect[0]]) if gender_IndSelect[0].shape[0] != 0 else 0.0\n",
    "            loss2 = criterion_task2(FC_output_glasses[glasses_IndSelect], label_glass[glasses_IndSelect]) if glasses_IndSelect[0].shape[0] != 0 else 0.0\n",
    "            loss3 = criterion_task3(FC_output_angle[pose_IndSelect[0]], label_pose[pose_IndSelect[0]]) if pose_IndSelect[0].shape[0] != 0 else 0.0\n",
    "\n",
    "\n",
    "            val_loss += (loss1 + loss2 + loss3).item()\n",
    "\n",
    "\n",
    "    val_loss /= len(val_dataloader)\n",
    "\n",
    "    if val_loss < best_val_loss:\n",
    "        best_val_loss = val_loss\n",
    "        best_model_state = multi_task_net.state_dict()\n",
    "        patience = 0\n",
    "    else:\n",
    "        patience += 1\n",
    "        if patience >= early_stopping_rounds:\n",
    "            print(\"Early stopping triggered.\")\n",
    "            break\n",
    "\n",
    "\n",
    "    print('Training Result')\n",
    "    training_result(epoch,multi_task_net, train_dataloader)\n",
    "    print('Validation Result')\n",
    "    validation_result(epoch,multi_task_net, val_dataloader)\n",
    "    print('Testing Result')\n",
    "    testing_result(epoch,multi_task_net, test_dataloader)\n",
    "\n",
    "\n",
    "    multi_task_net.load_state_dict(best_model_state)\n",
    "    torch.save(multi_task_net, 'Teacher_MTL.pth')"
   ]
  },
  {
   "cell_type": "code",
   "execution_count": 19,
   "id": "47d763fd",
   "metadata": {
    "execution": {
     "iopub.execute_input": "2024-04-24T08:13:03.903555Z",
     "iopub.status.busy": "2024-04-24T08:13:03.903244Z",
     "iopub.status.idle": "2024-04-24T08:13:04.493049Z",
     "shell.execute_reply": "2024-04-24T08:13:04.492100Z"
    },
    "papermill": {
     "duration": 0.607275,
     "end_time": "2024-04-24T08:13:04.495413",
     "exception": false,
     "start_time": "2024-04-24T08:13:03.888138",
     "status": "completed"
    },
    "tags": []
   },
   "outputs": [],
   "source": [
    "df_train = pd.DataFrame({'Gender_Accuracy_Train': gender_accuracy_train,\n",
    "                  'Glass_Accuracy_Train': glass_accuracy_train,\n",
    "                  'Pose_error': training_error_pose})\n",
    "\n",
    "df_val =  pd.DataFrame({'Gender_Accuracy_Val': gender_accuracy_val,\n",
    "                  'Glass_Accuracy_Val': glass_accuracy_val,\n",
    "                  'Pose_error_val': val_error_pose})\n",
    "\n",
    "df_test = pd.DataFrame({'Gender_Accuracy_test': gender_accuracy_test,\n",
    "                  'Glass_Accuracy_test': glass_accuracy_test,\n",
    "                  'Pose_error_test': testing_error_pose})\n",
    "\n",
    "df_train.to_excel('train.xlsx',index=False)\n",
    "df_val.to_excel('val.xlsx',index=False)\n",
    "df_test.to_excel('test.xlsx',index=False)"
   ]
  },
  {
   "cell_type": "code",
   "execution_count": null,
   "id": "9ce487ee",
   "metadata": {
    "papermill": {
     "duration": 0.012984,
     "end_time": "2024-04-24T08:13:04.522109",
     "exception": false,
     "start_time": "2024-04-24T08:13:04.509125",
     "status": "completed"
    },
    "tags": []
   },
   "outputs": [],
   "source": []
  },
  {
   "cell_type": "code",
   "execution_count": null,
   "id": "759a8b6a",
   "metadata": {
    "papermill": {
     "duration": 0.013029,
     "end_time": "2024-04-24T08:13:04.548289",
     "exception": false,
     "start_time": "2024-04-24T08:13:04.535260",
     "status": "completed"
    },
    "tags": []
   },
   "outputs": [],
   "source": []
  },
  {
   "cell_type": "code",
   "execution_count": null,
   "id": "d45563a3",
   "metadata": {
    "papermill": {
     "duration": 0.01358,
     "end_time": "2024-04-24T08:13:04.575018",
     "exception": false,
     "start_time": "2024-04-24T08:13:04.561438",
     "status": "completed"
    },
    "tags": []
   },
   "outputs": [],
   "source": []
  }
 ],
 "metadata": {
  "kaggle": {
   "accelerator": "nvidiaTeslaT4",
   "dataSources": [
    {
     "datasetId": 4736610,
     "sourceId": 8035171,
     "sourceType": "datasetVersion"
    }
   ],
   "dockerImageVersionId": 30674,
   "isGpuEnabled": true,
   "isInternetEnabled": true,
   "language": "python",
   "sourceType": "notebook"
  },
  "kernelspec": {
   "display_name": "Python 3",
   "language": "python",
   "name": "python3"
  },
  "language_info": {
   "codemirror_mode": {
    "name": "ipython",
    "version": 3
   },
   "file_extension": ".py",
   "mimetype": "text/x-python",
   "name": "python",
   "nbconvert_exporter": "python",
   "pygments_lexer": "ipython3",
   "version": "3.10.13"
  },
  "papermill": {
   "default_parameters": {},
   "duration": 2963.194441,
   "end_time": "2024-04-24T08:13:07.976531",
   "environment_variables": {},
   "exception": null,
   "input_path": "__notebook__.ipynb",
   "output_path": "__notebook__.ipynb",
   "parameters": {},
   "start_time": "2024-04-24T07:23:44.782090",
   "version": "2.5.0"
  }
 },
 "nbformat": 4,
 "nbformat_minor": 5
}
